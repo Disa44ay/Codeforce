{
  "nbformat": 4,
  "nbformat_minor": 0,
  "metadata": {
    "colab": {
      "provenance": [],
      "authorship_tag": "ABX9TyMxzKkHSdsQ5yMqMhgpNvrY",
      "include_colab_link": true
    },
    "kernelspec": {
      "name": "python3",
      "display_name": "Python 3"
    },
    "language_info": {
      "name": "python"
    }
  },
  "cells": [
    {
      "cell_type": "markdown",
      "metadata": {
        "id": "view-in-github",
        "colab_type": "text"
      },
      "source": [
        "<a href=\"https://colab.research.google.com/github/Disa44ay/Codeforce/blob/master/Code.ipynb\" target=\"_parent\"><img src=\"https://colab.research.google.com/assets/colab-badge.svg\" alt=\"Open In Colab\"/></a>"
      ]
    },
    {
      "cell_type": "markdown",
      "source": [
        "##CF - J. Count Letters"
      ],
      "metadata": {
        "id": "Z0Pn3GiIAMfE"
      }
    },
    {
      "cell_type": "code",
      "execution_count": null,
      "metadata": {
        "id": "Qd0mOLZN_x32"
      },
      "outputs": [],
      "source": [
        "inp = input()\n",
        "\n",
        "count = {}\n",
        "\n",
        "for i in range(len(inp)):\n",
        "  count[inp[i]] = count.get(inp[i],0)+1\n",
        "\n",
        "res = dict(sorted(count.items()))\n",
        "for k,v in res.items():\n",
        "  print(f\"{k} : {v}\")"
      ]
    },
    {
      "cell_type": "markdown",
      "source": [
        "##CF - Y. Min Cost String"
      ],
      "metadata": {
        "id": "j-v_FWY9Eq8Q"
      }
    },
    {
      "cell_type": "code",
      "source": [
        "import string\n",
        "\n",
        "s = input()\n",
        "c = list(map(int, input().split()))\n",
        "\n",
        "letters = list(string.ascii_lowercase)\n",
        "dic = dict(zip(letters, c))\n",
        "\n",
        "if len(c) < 26:\n",
        "    dic.update({k: None for k in letters[len(c):]})\n",
        "\n"
      ],
      "metadata": {
        "id": "Q35rCTElEqph"
      },
      "execution_count": null,
      "outputs": []
    },
    {
      "cell_type": "markdown",
      "source": [
        "##CF - G. Max and MIN"
      ],
      "metadata": {
        "id": "SsizvL-wNgvx"
      }
    },
    {
      "cell_type": "code",
      "source": [
        "n = input()\n",
        "a = list(map(int, input().split()))\n",
        "\n",
        "a.sort()\n",
        "print(a[0], a[-1])"
      ],
      "metadata": {
        "id": "r7GbLbIZNoBA",
        "outputId": "830badef-5fa8-406f-cca8-7b17def186d3",
        "colab": {
          "base_uri": "https://localhost:8080/"
        }
      },
      "execution_count": null,
      "outputs": [
        {
          "output_type": "stream",
          "name": "stdout",
          "text": [
            "5\n",
            "10 13 95 1 3\n",
            "1 95\n"
          ]
        }
      ]
    },
    {
      "cell_type": "markdown",
      "source": [
        "##CF - J. Average"
      ],
      "metadata": {
        "id": "24FkSKYiPGRC"
      }
    },
    {
      "cell_type": "code",
      "source": [
        "n = int(input())\n",
        "a = list(map(float, input().split()))\n",
        "\n",
        "print(f\"{sum(a) / n:.6f}\")\n"
      ],
      "metadata": {
        "id": "KRFkSLnQPJlC",
        "outputId": "5f20169d-b335-405d-eb3a-6d60bf879337",
        "colab": {
          "base_uri": "https://localhost:8080/"
        }
      },
      "execution_count": null,
      "outputs": [
        {
          "output_type": "stream",
          "name": "stdout",
          "text": [
            "3\n",
            "1.0 2.0 5.0\n",
            "2.666667\n"
          ]
        }
      ]
    },
    {
      "cell_type": "markdown",
      "source": [
        "##CF - L. New Array"
      ],
      "metadata": {
        "id": "qF9lzw0BSfBr"
      }
    },
    {
      "cell_type": "code",
      "source": [
        "N = int(input())\n",
        "A = list(map(int, input().split()))\n",
        "B = list(map(int, input().split()))\n",
        "\n",
        "C = B + A\n",
        "for i in range(len(C)):\n",
        "  print(C[i], end = \" \")"
      ],
      "metadata": {
        "id": "JBM84kU9SijR",
        "outputId": "e9ac301c-e5b8-48b4-8414-e59f79845dc9",
        "colab": {
          "base_uri": "https://localhost:8080/"
        }
      },
      "execution_count": null,
      "outputs": [
        {
          "output_type": "stream",
          "name": "stdout",
          "text": [
            "2\n",
            "1 2\n",
            "3 4\n",
            "3 4 1 2 "
          ]
        }
      ]
    },
    {
      "cell_type": "markdown",
      "source": [
        "###CF_2154A. Notelock"
      ],
      "metadata": {
        "id": "975V9tWTMdYC"
      }
    },
    {
      "cell_type": "code",
      "source": [
        "t = int(input())\n",
        "\n",
        "for _ in range(t):\n",
        "    n, k = map(int, input().split())\n",
        "    s = input().strip()\n",
        "\n",
        "    if '1' not in s:\n",
        "        print(0)\n",
        "        continue\n",
        "\n",
        "    save_one = 0\n",
        "    last_one = -k\n",
        "\n",
        "    for i in range(n):\n",
        "        if s[i] == '1':\n",
        "            if i - last_one >= k:\n",
        "                save_one += 1\n",
        "                last_one = i\n",
        "\n",
        "    print(save_one)\n"
      ],
      "metadata": {
        "id": "61zVNcaMOEL2"
      },
      "execution_count": null,
      "outputs": []
    },
    {
      "cell_type": "markdown",
      "source": [],
      "metadata": {
        "id": "VZgU9sGLAIFN"
      }
    }
  ]
}